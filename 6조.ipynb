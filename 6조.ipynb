{
  "nbformat": 4,
  "nbformat_minor": 0,
  "metadata": {
    "colab": {
      "provenance": [],
      "authorship_tag": "ABX9TyM4Iz02Yww8nGp6JKcQBo3F",
      "include_colab_link": true
    },
    "kernelspec": {
      "name": "python3",
      "display_name": "Python 3"
    },
    "language_info": {
      "name": "python"
    }
  },
  "cells": [
    {
      "cell_type": "markdown",
      "metadata": {
        "id": "view-in-github",
        "colab_type": "text"
      },
      "source": [
        "<a href=\"https://colab.research.google.com/github/bansiyoung/2025.DM/blob/main/6%EC%A1%B0.ipynb\" target=\"_parent\"><img src=\"https://colab.research.google.com/assets/colab-badge.svg\" alt=\"Open In Colab\"/></a>"
      ]
    },
    {
      "cell_type": "code",
      "execution_count": 4,
      "metadata": {
        "colab": {
          "base_uri": "https://localhost:8080/"
        },
        "id": "b7QpBvOpLW1H",
        "outputId": "c1b352a3-fd5e-48bb-9ffa-ad06ce224709"
      },
      "outputs": [
        {
          "output_type": "stream",
          "name": "stdout",
          "text": [
            "DFS 탐색 순서:\n",
            "김민아 권나빈 이수정 조은비 박경호 반시영 \n",
            "BFS 탐색 순서:\n",
            "김민아 권나빈 반시영 이수정 박경호 조은비 \n",
            "김민아의 친구 추천(2단계):\n",
            "- 이수정\n",
            "- 박경호\n",
            "- 조은비\n"
          ]
        }
      ],
      "source": [
        "#예시 그래프: 친구 관계\n",
        "graph = {\n",
        "    '김민아': ['권나빈', '반시영'],\n",
        "    '권나빈': ['이수정', '박경호'],\n",
        "    '반시영': ['조은비'],\n",
        "    '박경호': [],\n",
        "    '이수정': ['조은비'],\n",
        "    '조은비': []\n",
        "}\n",
        "\n",
        "def dfs(graph, v, visited):\n",
        "  visited.add(v)\n",
        "  print(v, end=' ')\n",
        "  for neighbor in graph[v]:\n",
        "    if neighbor not in visited:\n",
        "      dfs(graph, neighbor, visited)\n",
        "\n",
        "print(\"DFS 탐색 순서:\")\n",
        "dfs(graph, '김민아', set())\n",
        "\n",
        "# 큐(Queue)를 효율적으로 구현할 수 있는 도구\n",
        "from collections import deque\n",
        "\n",
        "def bfs(graph, start):\n",
        "  visited = set()\n",
        "  queue = deque([start])\n",
        "  visited.add(start)\n",
        "\n",
        "  while queue:\n",
        "    v = queue.popleft()\n",
        "    print(v, end=' ')\n",
        "    for neighbor in graph[v]:\n",
        "      if neighbor not in visited:\n",
        "        visited.add(neighbor)\n",
        "        queue.append(neighbor)\n",
        "\n",
        "print(\"\\nBFS 탐색 순서:\")\n",
        "bfs(graph, '김민아')\n",
        "\n",
        "from collections import deque\n",
        "\n",
        "def recommend_friend(graph, start):\n",
        "  visited = set()\n",
        "  queue = deque([(start, 0)])\n",
        "\n",
        "  print(f\"\\n{start}의 친구 추천(2단계):\")\n",
        "\n",
        "  while queue:\n",
        "    current, depth = queue.popleft()\n",
        "    if current not in visited:\n",
        "      visited.add(current)\n",
        "      if depth == 2:\n",
        "        print(\"-\", current)\n",
        "      if depth < 2:\n",
        "        for neighbor in graph[current]:\n",
        "          queue.append((neighbor, depth + 1))\n",
        "\n",
        "recommend_friend(graph, '김민아')"
      ]
    }
  ]
}