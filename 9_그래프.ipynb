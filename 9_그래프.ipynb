{
  "nbformat": 4,
  "nbformat_minor": 0,
  "metadata": {
    "colab": {
      "provenance": [],
      "authorship_tag": "ABX9TyPPz3ySzwMDUXOy41xmhn+N",
      "include_colab_link": true
    },
    "kernelspec": {
      "name": "python3",
      "display_name": "Python 3"
    },
    "language_info": {
      "name": "python"
    }
  },
  "cells": [
    {
      "cell_type": "markdown",
      "metadata": {
        "id": "view-in-github",
        "colab_type": "text"
      },
      "source": [
        "<a href=\"https://colab.research.google.com/github/bansiyoung/2025.DM/blob/main/9_%EA%B7%B8%EB%9E%98%ED%94%84.ipynb\" target=\"_parent\"><img src=\"https://colab.research.google.com/assets/colab-badge.svg\" alt=\"Open In Colab\"/></a>"
      ]
    },
    {
      "cell_type": "code",
      "execution_count": 4,
      "metadata": {
        "colab": {
          "base_uri": "https://localhost:8080/"
        },
        "id": "b7QpBvOpLW1H",
        "outputId": "87064516-c7fd-43b8-8cc6-f99b82747a98"
      },
      "outputs": [
        {
          "output_type": "stream",
          "name": "stdout",
          "text": [
            "DFS 탐색 순서:\n",
            "Alice Bob David Eve Frank Charlie \n",
            "BFS 탐색 순서:\n",
            "Alice Bob Charlie David Eve Frank "
          ]
        }
      ],
      "source": [
        "#예시 그래프: 친구 관계\n",
        "graph = {\n",
        "    'Alice': ['Bob', 'Charlie'],\n",
        "    'Bob': ['David', 'Eve'],\n",
        "    'Charlie': ['Frank'],\n",
        "    'David': [],\n",
        "    'Eve': ['Frank'],\n",
        "    'Frank': []\n",
        "}\n",
        "\n",
        "def dfs(graph, v, visited):\n",
        "  visited.add(v)\n",
        "  print(v, end=' ')\n",
        "  for neighbor in graph[v]:\n",
        "    if neighbor not in visited:\n",
        "      dfs(graph, neighbor, visited)\n",
        "\n",
        "print(\"DFS 탐색 순서:\")\n",
        "dfs(graph, 'Alice', set())\n",
        "\n",
        "# 큐(Queue)를 효율적으로 구현할 수 있는 도구\n",
        "from collections import deque\n",
        "\n",
        "def bfs(graph, start):\n",
        "  visited = set()\n",
        "  queue = deque([start])\n",
        "  visited.add(start)\n",
        "\n",
        "  while queue:\n",
        "    v = queue.popleft()\n",
        "    print(v, end=' ')\n",
        "    for neighbor in graph[v]:\n",
        "      if neighbor not in visited:\n",
        "        visited.add(neighbor)\n",
        "        queue.append(neighbor)\n",
        "\n",
        "print(\"\\nBFS 탐색 순서:\")\n",
        "bfs(graph, 'Alice')"
      ]
    }
  ]
}